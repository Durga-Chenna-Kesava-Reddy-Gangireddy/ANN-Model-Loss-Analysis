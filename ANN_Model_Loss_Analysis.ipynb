{
 "cells": [
  {
   "cell_type": "markdown",
   "id": "ee36568a",
   "metadata": {},
   "source": [
    "# Assignment No - 3  \n",
    "**Artificial Intelligence and Machine Learning**  \n",
    "\n",
    "**Task:** Create an Artificial Neural Network (ANN) using any dataset.  \n",
    "- Use Dense layers.  \n",
    "- Plot a model_loss chart for comparative analysis.  \n",
    "\n",
    "**Submission Filetype:** Jupyter Notebook (.ipynb)  \n"
   ]
  },
  {
   "cell_type": "code",
   "execution_count": null,
   "id": "a71c32b3",
   "metadata": {},
   "outputs": [],
   "source": [
    "# Import required libraries\n",
    "import numpy as np\n",
    "import tensorflow as tf\n",
    "from tensorflow import keras\n",
    "import matplotlib.pyplot as plt\n",
    "\n",
    "# Print TensorFlow version\n",
    "print(\"TensorFlow Version:\", tf.__version__)"
   ]
  },
  {
   "cell_type": "code",
   "execution_count": null,
   "id": "84ba5107",
   "metadata": {},
   "outputs": [],
   "source": [
    "# Load MNIST dataset\n",
    "from tensorflow.keras.datasets import mnist\n",
    "\n",
    "# Split dataset into train and test sets\n",
    "(x_train, y_train), (x_test, y_test) = mnist.load_data()\n",
    "\n",
    "# Normalize the data (scaling pixel values to 0-1 range)\n",
    "x_train, x_test = x_train / 255.0, x_test / 255.0\n",
    "\n",
    "# Print dataset shape\n",
    "print(f\"Training data shape: {x_train.shape}, Training labels shape: {y_train.shape}\")\n",
    "print(f\"Testing data shape: {x_test.shape}, Testing labels shape: {y_test.shape}\")"
   ]
  },
  {
   "cell_type": "code",
   "execution_count": null,
   "id": "9d06345a",
   "metadata": {},
   "outputs": [],
   "source": [
    "# Build the ANN model with Dense layers\n",
    "model = keras.Sequential([\n",
    "    keras.layers.Flatten(input_shape=(28, 28)),  # Input layer\n",
    "    keras.layers.Dense(128, activation='relu'),  # Hidden layer 1\n",
    "    keras.layers.Dense(64, activation='relu'),   # Hidden layer 2\n",
    "    keras.layers.Dense(10, activation='softmax') # Output layer (10 classes)\n",
    "])\n",
    "\n",
    "# Compile the model\n",
    "model.compile(optimizer='adam',\n",
    "              loss='sparse_categorical_crossentropy',\n",
    "              metrics=['accuracy'])\n",
    "\n",
    "# Display model summary\n",
    "model.summary()"
   ]
  },
  {
   "cell_type": "code",
   "execution_count": null,
   "id": "ec52c707",
   "metadata": {},
   "outputs": [],
   "source": [
    "# Train the model\n",
    "history = model.fit(x_train, y_train, epochs=10, validation_data=(x_test, y_test))"
   ]
  },
  {
   "cell_type": "code",
   "execution_count": null,
   "id": "aeb93cf7",
   "metadata": {},
   "outputs": [],
   "source": [
    "# Plot training & validation loss values\n",
    "plt.plot(history.history['loss'], label='Training Loss')\n",
    "plt.plot(history.history['val_loss'], label='Validation Loss')\n",
    "plt.xlabel('Epochs')\n",
    "plt.ylabel('Loss')\n",
    "plt.title('Model Loss Comparison')\n",
    "plt.legend()\n",
    "plt.show()"
   ]
  }
 ],
 "metadata": {},
 "nbformat": 4,
 "nbformat_minor": 5
}
